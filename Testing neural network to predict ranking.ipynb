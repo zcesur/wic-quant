{
 "cells": [
  {
   "cell_type": "code",
   "execution_count": 3,
   "metadata": {
    "collapsed": true
   },
   "outputs": [],
   "source": [
    "import pandas as pd\n",
    "import numpy as np"
   ]
  },
  {
   "cell_type": "code",
   "execution_count": 18,
   "metadata": {
    "collapsed": false
   },
   "outputs": [],
   "source": [
    "from keras.models import Sequential\n",
    "from keras.layers import Dense, Merge\n",
    "from keras.regularizers import l1, l2"
   ]
  },
  {
   "cell_type": "code",
   "execution_count": null,
   "metadata": {
    "collapsed": true
   },
   "outputs": [],
   "source": [
    "# assume we have some data frame df with stock labels as rows and factors as features, trying to predict \n",
    "# one month in advance returns\n",
    "data_X = df[df.columns.difference('returns')]\n",
    "data_y = df['returns']\n",
    "data_return = df['returns']\n",
    "nrows = data_X.shape[0]\n",
    "ncols = data_X.shape[1]\n",
    "data_y = data_y.rank()\n",
    "data_y.apply(lambda x: 0 if x <= 100 else x) # 0 if in bottom returns\n",
    "data_y.apply(lambda x: 2 if x >= 1500 - 100 else x ) # 1 if neither bottom or top\n",
    "data_y.apply(lambda x: 1 if x != 1 and x!= 2 else x) # 2 if in top returns"
   ]
  },
  {
   "cell_type": "code",
   "execution_count": null,
   "metadata": {
    "collapsed": true
   },
   "outputs": [],
   "source": [
    "#define architecture\n",
    "\n",
    "model1 = Sequential() #basic network; prepares data to be classified\n",
    "model1.add(Dense(ncols/2, activation = 'relu',input_dim = ncols))\n",
    "\n",
    "model2 = Sequential() #run regression with L1 regularization\n",
    "model2.add(Dense(ncols/2, activation = 'relu', input_dim = ncols,W_regularizer=l1(0.01) ))\n",
    "model2.add(Dense(ncols/4,activation = 'relu'))\n",
    "model2.add(Dense(1))\n",
    "\n",
    "model3 = Sequential() #run regression to L2 regularization\n",
    "model3.add(Dense(ncols/2, activation = 'relu', input_dim = ncols,W_regularizer=l2(0.01) ))\n",
    "model3.add(Dense(ncols/4,activation = 'relu'))\n",
    "model3.add(Dense(1))\n",
    "\n",
    "final_model = Sequential()\n",
    "final_model.add(Merge(layers = [model1, model2, model3]))\n",
    "final_model.add(Dense(3, activation = 'softmax'))\n",
    "\n",
    "final_model.compile(optimizer = 'rmsprop', metric)"
   ]
  }
 ],
 "metadata": {
  "anaconda-cloud": {},
  "kernelspec": {
   "display_name": "Python [conda env:2sigma_kaggle]",
   "language": "python",
   "name": "conda-env-2sigma_kaggle-py"
  },
  "language_info": {
   "codemirror_mode": {
    "name": "ipython",
    "version": 2
   },
   "file_extension": ".py",
   "mimetype": "text/x-python",
   "name": "python",
   "nbconvert_exporter": "python",
   "pygments_lexer": "ipython2",
   "version": "2.7.12"
  }
 },
 "nbformat": 4,
 "nbformat_minor": 1
}
